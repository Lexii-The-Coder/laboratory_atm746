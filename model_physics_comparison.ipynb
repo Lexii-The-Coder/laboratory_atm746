{
 "cells": [
  {
   "cell_type": "markdown",
   "id": "3b824f78-131c-4563-b2fe-baa9a35d8f88",
   "metadata": {
    "editable": true,
    "slideshow": {
     "slide_type": ""
    },
    "tags": []
   },
   "source": [
    "# ATM746 - Laboratory Component\n",
    "\n",
    "## SIMULATIONS - PHYSICS SENSITIVITY\n"
   ]
  },
  {
   "cell_type": "markdown",
   "id": "4f72d429",
   "metadata": {},
   "source": [
    "### MODIFY YOUR NAMELIST.INPUT FILE\n",
    "\n",
    "| Student | Microphysics - MP | Boundary Layer - PBL |  Surface Layer |\n",
    "|---|---|---|---|\n",
    "| Luke Zavala | Thompson | YSU | sf_sfclay_physics = 1 |\n",
    "| Alex Weirauch | Thompson | MYJ | sf_sfclay_physics = 2 |\n",
    "| Bijita Thapa Magar | Thompson |  Boulac  | sf_sfclay_physics = 1 |\n",
    "| Ryan Purciel | Morrison 2-moment | YSU | sf_sfclay_physics = 1 |\n",
    "| Jolene Potter | Morrison 2-moment | MYJ | sf_sfclay_physics = 2 |\n",
    "| Lauren Mcaffee | Morrison 2-moment |  Boulac  | sf_sfclay_physics = 1 |\n",
    "| Tucker Friberg | WSM 6-class | YSU | sf_sfclay_physics = 1 |\n",
    "| Rajan Bhandari | WSM 6-class | MYJ | sf_sfclay_physics = 2 |\n",
    "| Maritza Andicoechea | WSM 6-class |  Boulac  | sf_sfclay_physics = 1 |\n",
    "|  | |  |  |\n",
    "| Juan Henao |  Milbrandt-Yau 2-moment |  Boulac  | sf_sfclay_physics = 1 |\n",
    "| - |  Milbrandt-Yau 2-moment |  YSU  | sf_sfclay_physics = 1 |\n",
    "| - |  Milbrandt-Yau 2-moment |  MYJ  | sf_sfclay_physics = 2 |"
   ]
  },
  {
   "cell_type": "markdown",
   "id": "96334546",
   "metadata": {},
   "source": [
    "### COPY MY input files and namelist\n",
    "\n",
    "#### create a directory for your run \n",
    "\n",
    "in scratch (`cd $SCRATCH/atm746`)\n",
    "\n",
    "creeate a directory with your MP and PBL numbers, in my case (`mkdir ar_mp9_bl8`)\n",
    "\n",
    "inside that folder, copy my input files and namelist\n",
    "\n",
    "`cp /glade/derecho/scratch/jhenao/atm746/ar_test/wrfinput_d0* .`\n",
    "\n",
    "`cp /glade/derecho/scratch/jhenao/atm746/ar_test/wrfbdy_d01 .`\n",
    "\n",
    "`cp /glade/derecho/scratch/jhenao/atm746/ar_test/namelist.input .`\n",
    "\n",
    "edit your namelist to change the boundary layer option (`bl_pbl_physics`) and microphysics (`mp_physics`)\n",
    "\n",
    "run WRF!"
   ]
  },
  {
   "cell_type": "markdown",
   "id": "4652c766",
   "metadata": {},
   "source": []
  }
 ],
 "metadata": {
  "kernelspec": {
   "display_name": "Python (geo_env)",
   "language": "python",
   "name": "myenv"
  },
  "language_info": {
   "codemirror_mode": {
    "name": "ipython",
    "version": 3
   },
   "file_extension": ".py",
   "mimetype": "text/x-python",
   "name": "python",
   "nbconvert_exporter": "python",
   "pygments_lexer": "ipython3",
   "version": "3.12.1"
  }
 },
 "nbformat": 4,
 "nbformat_minor": 5
}
